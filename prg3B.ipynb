{
  "nbformat": 4,
  "nbformat_minor": 0,
  "metadata": {
    "colab": {
      "provenance": []
    },
    "kernelspec": {
      "name": "python3",
      "display_name": "Python 3"
    },
    "language_info": {
      "name": "python"
    }
  },
  "cells": [
    {
      "cell_type": "code",
      "execution_count": null,
      "metadata": {
        "colab": {
          "base_uri": "https://localhost:8080/"
        },
        "id": "Swi6PbGGLFMm",
        "outputId": "1f4730cd-fd1e-4e0c-d038-a86af5420b25"
      },
      "outputs": [
        {
          "output_type": "stream",
          "name": "stdout",
          "text": [
            "Requirement already satisfied: pyspark in /usr/local/lib/python3.10/dist-packages (3.5.3)\n",
            "Requirement already satisfied: py4j==0.10.9.7 in /usr/local/lib/python3.10/dist-packages (from pyspark) (0.10.9.7)\n"
          ]
        }
      ],
      "source": [
        "pip install pyspark\n"
      ]
    },
    {
      "cell_type": "code",
      "source": [
        "from pyspark.sql import SparkSession\n",
        "\n",
        "# Create a Spark session\n",
        "spark = SparkSession.builder.appName(\"FlightAnalysis\").getOrCreate()\n"
      ],
      "metadata": {
        "id": "W8N1cZpcLGz3"
      },
      "execution_count": null,
      "outputs": []
    },
    {
      "cell_type": "code",
      "source": [
        "# Load the dataset from CSV file\n",
        "file_path = \"/content/Airlines.csv\"  # Update this path to your local file or cloud storage path\n",
        "df = spark.read.option(\"header\", \"true\").csv(file_path, inferSchema=True)\n",
        "\n",
        "# Show the first few rows to understand the structure\n",
        "df.show(5)\n"
      ],
      "metadata": {
        "colab": {
          "base_uri": "https://localhost:8080/"
        },
        "id": "_No6GsBqLKwm",
        "outputId": "719356e4-bf45-457c-c29e-8b5564a759d0"
      },
      "execution_count": null,
      "outputs": [
        {
          "output_type": "stream",
          "name": "stdout",
          "text": [
            "+---+-------+------+-----------+---------+---------+----+------+-----+\n",
            "| id|Airline|Flight|AirportFrom|AirportTo|DayOfWeek|Time|Length|Delay|\n",
            "+---+-------+------+-----------+---------+---------+----+------+-----+\n",
            "|  1|     CO|   269|        SFO|      IAH|        3|  15|   205|    1|\n",
            "|  2|     US|  1558|        PHX|      CLT|        3|  15|   222|    1|\n",
            "|  3|     AA|  2400|        LAX|      DFW|        3|  20|   165|    1|\n",
            "|  4|     AA|  2466|        SFO|      DFW|        3|  20|   195|    1|\n",
            "|  5|     AS|   108|        ANC|      SEA|        3|  30|   202|    0|\n",
            "+---+-------+------+-----------+---------+---------+----+------+-----+\n",
            "only showing top 5 rows\n",
            "\n"
          ]
        }
      ]
    },
    {
      "cell_type": "code",
      "source": [
        "# Filter flights with arrival delay greater than 15 minutes\n",
        "delayed_flights = df.filter(df['Delay']*60 > 15)\n",
        "\n",
        "# Show the first few rows of the filtered data\n",
        "delayed_flights.show(5)\n"
      ],
      "metadata": {
        "colab": {
          "base_uri": "https://localhost:8080/"
        },
        "id": "C0h3bJxfLSmH",
        "outputId": "3492a21f-7cc6-4343-e3a4-511eaf8e1fa7"
      },
      "execution_count": null,
      "outputs": [
        {
          "output_type": "stream",
          "name": "stdout",
          "text": [
            "+---+-------+------+-----------+---------+---------+----+------+-----+\n",
            "| id|Airline|Flight|AirportFrom|AirportTo|DayOfWeek|Time|Length|Delay|\n",
            "+---+-------+------+-----------+---------+---------+----+------+-----+\n",
            "|  1|     CO|   269|        SFO|      IAH|        3|  15|   205|    1|\n",
            "|  2|     US|  1558|        PHX|      CLT|        3|  15|   222|    1|\n",
            "|  3|     AA|  2400|        LAX|      DFW|        3|  20|   165|    1|\n",
            "|  4|     AA|  2466|        SFO|      DFW|        3|  20|   195|    1|\n",
            "|  6|     CO|  1094|        LAX|      IAH|        3|  30|   181|    1|\n",
            "+---+-------+------+-----------+---------+---------+----+------+-----+\n",
            "only showing top 5 rows\n",
            "\n"
          ]
        }
      ]
    },
    {
      "cell_type": "code",
      "source": [
        "# Print schema to confirm column names\n",
        "df.printSchema()\n"
      ],
      "metadata": {
        "colab": {
          "base_uri": "https://localhost:8080/"
        },
        "id": "W3mOcmR2LXTG",
        "outputId": "7c410d47-ac6b-4021-be8c-0b895e5882c5"
      },
      "execution_count": null,
      "outputs": [
        {
          "output_type": "stream",
          "name": "stdout",
          "text": [
            "root\n",
            " |-- id: integer (nullable = true)\n",
            " |-- Airline: string (nullable = true)\n",
            " |-- Flight: integer (nullable = true)\n",
            " |-- AirportFrom: string (nullable = true)\n",
            " |-- AirportTo: string (nullable = true)\n",
            " |-- DayOfWeek: integer (nullable = true)\n",
            " |-- Time: integer (nullable = true)\n",
            " |-- Length: integer (nullable = true)\n",
            " |-- Delay: integer (nullable = true)\n",
            "\n"
          ]
        }
      ]
    },
    {
      "cell_type": "code",
      "source": [
        "# Calculate correlation between 'Distance' (flight length) and 'ArrDelay' (arrival delay)\n",
        "correlation = df.stat.corr('Length', 'Delay')\n",
        "\n",
        "print(f\"Correlation between flight length and arrival delay: {correlation}\")\n"
      ],
      "metadata": {
        "colab": {
          "base_uri": "https://localhost:8080/"
        },
        "id": "fS2LFL_2LkD2",
        "outputId": "83592fe5-f359-4d96-8f8a-062d0ae27b7e"
      },
      "execution_count": null,
      "outputs": [
        {
          "output_type": "stream",
          "name": "stdout",
          "text": [
            "Correlation between flight length and arrival delay: 0.0404894716080698\n"
          ]
        }
      ]
    },
    {
      "cell_type": "code",
      "source": [
        "\n"
      ],
      "metadata": {
        "id": "My03w6e7LlBl"
      },
      "execution_count": null,
      "outputs": []
    },
    {
      "cell_type": "code",
      "source": [],
      "metadata": {
        "id": "s5yx0hkgLuWF"
      },
      "execution_count": null,
      "outputs": []
    }
  ]
}