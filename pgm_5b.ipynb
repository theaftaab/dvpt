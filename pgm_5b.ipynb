{
  "nbformat": 4,
  "nbformat_minor": 0,
  "metadata": {
    "colab": {
      "provenance": []
    },
    "kernelspec": {
      "name": "python3",
      "display_name": "Python 3"
    },
    "language_info": {
      "name": "python"
    }
  },
  "cells": [
    {
      "cell_type": "code",
      "execution_count": null,
      "metadata": {
        "colab": {
          "base_uri": "https://localhost:8080/"
        },
        "id": "CcHEMWLFN2Wy",
        "outputId": "b3e9cddd-2811-4e9a-cf05-d27b06d09aa4"
      },
      "outputs": [
        {
          "output_type": "stream",
          "name": "stdout",
          "text": [
            "Requirement already satisfied: pyspark in /usr/local/lib/python3.10/dist-packages (3.5.3)\n",
            "Requirement already satisfied: py4j==0.10.9.7 in /usr/local/lib/python3.10/dist-packages (from pyspark) (0.10.9.7)\n"
          ]
        }
      ],
      "source": [
        "pip install pyspark\n"
      ]
    },
    {
      "cell_type": "code",
      "source": [
        "from pyspark.sql import SparkSession\n",
        "\n",
        "# Create Spark session\n",
        "spark = SparkSession.builder.appName(\"MovieRatingsAnalysis\").getOrCreate()\n",
        "\n",
        "# Load the movie dataset (movies.csv)\n",
        "movies_file_path = \"/content/movies.csv\"  # Update with the actual path to your movies CSV file\n",
        "movies_df = spark.read.option(\"header\", \"true\").csv(movies_file_path, inferSchema=True)\n",
        "\n",
        "# Load the ratings dataset (ratings.csv)\n",
        "ratings_file_path = \"/content/ratings.csv\"  # Update with the actual path to your ratings CSV file\n",
        "ratings_df = spark.read.option(\"header\", \"true\").csv(ratings_file_path, inferSchema=True)\n",
        "\n",
        "# Show the schema to understand the structure of the data\n",
        "movies_df.printSchema()\n",
        "ratings_df.printSchema()\n",
        "\n",
        "# Create temporary views for SQL queries\n",
        "movies_df.createOrReplaceTempView(\"movies\")\n",
        "ratings_df.createOrReplaceTempView(\"ratings\")\n",
        "\n",
        "# Perform SQL query to find the top 10 highest-rated movies with at least 10 ratings\n",
        "query = \"\"\"\n",
        "    SELECT m.movieId, m.title, AVG(r.rating) AS avg_rating, COUNT(r.rating) AS rating_count\n",
        "    FROM movies m\n",
        "    JOIN ratings r ON m.movieId = r.movieId\n",
        "    GROUP BY m.movieId, m.title\n",
        "    HAVING COUNT(r.rating) >= 10\n",
        "    ORDER BY avg_rating DESC\n",
        "    LIMIT 10\n",
        "\"\"\"\n",
        "\n",
        "# Execute the query\n",
        "top_10_movies = spark.sql(query)\n",
        "\n",
        "# Show the result\n",
        "top_10_movies.show()\n"
      ],
      "metadata": {
        "colab": {
          "base_uri": "https://localhost:8080/"
        },
        "id": "Vot-C5yEOy53",
        "outputId": "dc91cd2f-930f-4df4-a9a7-931c078d8d74"
      },
      "execution_count": null,
      "outputs": [
        {
          "output_type": "stream",
          "name": "stdout",
          "text": [
            "root\n",
            " |-- movieId: integer (nullable = true)\n",
            " |-- title: string (nullable = true)\n",
            " |-- genres: string (nullable = true)\n",
            "\n",
            "root\n",
            " |-- userId: integer (nullable = true)\n",
            " |-- movieId: integer (nullable = true)\n",
            " |-- rating: double (nullable = true)\n",
            " |-- timestamp: integer (nullable = true)\n",
            "\n",
            "+-------+--------------------+-----------------+------------+\n",
            "|movieId|               title|       avg_rating|rating_count|\n",
            "+-------+--------------------+-----------------+------------+\n",
            "|   1041|Secrets & Lies (1...|4.590909090909091|          11|\n",
            "|   3451|Guess Who's Comin...|4.545454545454546|          11|\n",
            "|   1178|Paths of Glory (1...|4.541666666666667|          12|\n",
            "|   1104|Streetcar Named D...|            4.475|          20|\n",
            "|   2360|Celebration, The ...|4.458333333333333|          12|\n",
            "|   1217|          Ran (1985)|4.433333333333334|          15|\n",
            "|    318|Shawshank Redempt...|4.429022082018927|         317|\n",
            "|    951|His Girl Friday (...|4.392857142857143|          14|\n",
            "|   1927|All Quiet on the ...|             4.35|          10|\n",
            "|   3468| Hustler, The (1961)|4.333333333333333|          18|\n",
            "+-------+--------------------+-----------------+------------+\n",
            "\n"
          ]
        }
      ]
    },
    {
      "cell_type": "code",
      "source": [],
      "metadata": {
        "id": "K1fu-mONPLtG"
      },
      "execution_count": null,
      "outputs": []
    }
  ]
}