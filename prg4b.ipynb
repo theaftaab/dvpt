{
  "nbformat": 4,
  "nbformat_minor": 0,
  "metadata": {
    "colab": {
      "provenance": []
    },
    "kernelspec": {
      "name": "python3",
      "display_name": "Python 3"
    },
    "language_info": {
      "name": "python"
    }
  },
  "cells": [
    {
      "cell_type": "code",
      "execution_count": null,
      "metadata": {
        "id": "PhzLs04pMsIv"
      },
      "outputs": [],
      "source": [
        "from pyspark.sql import SparkSession\n",
        "from pyspark.sql.functions import col,avg"
      ]
    },
    {
      "cell_type": "code",
      "source": [
        "spark = SparkSession.builder.appName(\"FlightAnalysis\").getOrCreate()"
      ],
      "metadata": {
        "id": "mB5JhppvM01W"
      },
      "execution_count": null,
      "outputs": []
    },
    {
      "cell_type": "code",
      "source": [
        "file_path = \"/content/Airlines.csv\"  # Update with the actual file path\n",
        "df = spark.read.option(\"header\", \"true\").csv(file_path, inferSchema=True)"
      ],
      "metadata": {
        "id": "tBORRhHEM4A1"
      },
      "execution_count": null,
      "outputs": []
    },
    {
      "cell_type": "code",
      "source": [
        "# Show the first few rows of the dataset to confirm the structure\n",
        "df.show(5)"
      ],
      "metadata": {
        "colab": {
          "base_uri": "https://localhost:8080/"
        },
        "id": "HBK_ojotNBSn",
        "outputId": "deb26eec-7ecc-4fb7-fc9d-be789ddc535c"
      },
      "execution_count": null,
      "outputs": [
        {
          "output_type": "stream",
          "name": "stdout",
          "text": [
            "+---+-------+------+-----------+---------+---------+----+------+-----+\n",
            "| id|Airline|Flight|AirportFrom|AirportTo|DayOfWeek|Time|Length|Delay|\n",
            "+---+-------+------+-----------+---------+---------+----+------+-----+\n",
            "|  1|     CO|   269|        SFO|      IAH|        3|  15|   205|    1|\n",
            "|  2|     US|  1558|        PHX|      CLT|        3|  15|   222|    1|\n",
            "|  3|     AA|  2400|        LAX|      DFW|        3|  20|   165|    1|\n",
            "|  4|     AA|  2466|        SFO|      DFW|        3|  20|   195|    1|\n",
            "|  5|     AS|   108|        ANC|      SEA|        3|  30|   202|    0|\n",
            "+---+-------+------+-----------+---------+---------+----+------+-----+\n",
            "only showing top 5 rows\n",
            "\n"
          ]
        }
      ]
    },
    {
      "cell_type": "code",
      "source": [
        "carrier_avg_delay = df.groupBy('Airline').agg(\n",
        "    avg('Delay').alias('AvgDelay')\n",
        ")"
      ],
      "metadata": {
        "id": "6YG15VsZNFI3"
      },
      "execution_count": null,
      "outputs": []
    },
    {
      "cell_type": "code",
      "source": [
        "carrier_avg_delay.show()"
      ],
      "metadata": {
        "colab": {
          "base_uri": "https://localhost:8080/"
        },
        "id": "_7j3VJg8NROV",
        "outputId": "81802b6d-3862-42de-b3ec-811e08271a6a"
      },
      "execution_count": null,
      "outputs": [
        {
          "output_type": "stream",
          "name": "stdout",
          "text": [
            "+-------+-------------------+\n",
            "|Airline|           AvgDelay|\n",
            "+-------+-------------------+\n",
            "|     UA|0.32390745501285345|\n",
            "|     AA|0.38847029963203084|\n",
            "|     EV| 0.4022084837222599|\n",
            "|     B6|0.46703842756183744|\n",
            "|     DL|  0.450475877912701|\n",
            "|     OO| 0.4528992716997652|\n",
            "|     F9|0.44903965303593557|\n",
            "|     YV| 0.2429143897996357|\n",
            "|     US|0.33597101449275363|\n",
            "|     MQ|0.34809452260620133|\n",
            "|     OH| 0.2772763262074426|\n",
            "|     HA| 0.3201864467551094|\n",
            "|     XE|0.37894364839683864|\n",
            "|     AS| 0.3392903844477378|\n",
            "|     CO| 0.5661994507055592|\n",
            "|     FL|0.30129159264416383|\n",
            "|     WN| 0.6977586958138942|\n",
            "|     9E|0.39766025331141835|\n",
            "+-------+-------------------+\n",
            "\n"
          ]
        }
      ]
    },
    {
      "cell_type": "code",
      "source": [
        "route_avg_delay = df.groupBy('AirportFrom', 'AirportTo').agg(\n",
        "    avg('Delay').alias('AvgDelay')  # Compute average delay (fraction of delayed flights) for each route\n",
        ")"
      ],
      "metadata": {
        "id": "vYsONvL7NkSG"
      },
      "execution_count": null,
      "outputs": []
    },
    {
      "cell_type": "code",
      "source": [
        "# Step 3: Sort the routes by average delay in descending order and get the top 5 routes\n",
        "top_5_routes = route_avg_delay.orderBy(col('AvgDelay').desc()).limit(5)\n",
        "\n",
        "# Show the top 5 routes with the highest average delay\n",
        "top_5_routes.show()"
      ],
      "metadata": {
        "colab": {
          "base_uri": "https://localhost:8080/"
        },
        "id": "XsVS-PRDNmWF",
        "outputId": "16501fe5-87bc-465b-a5e2-a4228095df2a"
      },
      "execution_count": null,
      "outputs": [
        {
          "output_type": "stream",
          "name": "stdout",
          "text": [
            "+-----------+---------+--------+\n",
            "|AirportFrom|AirportTo|AvgDelay|\n",
            "+-----------+---------+--------+\n",
            "|        STX|      CLT|     1.0|\n",
            "|        MTJ|      LAX|     1.0|\n",
            "|        EWR|      HDN|     1.0|\n",
            "|        MSP|      PVD|     1.0|\n",
            "|        BDL|      LAS|     1.0|\n",
            "+-----------+---------+--------+\n",
            "\n"
          ]
        }
      ]
    },
    {
      "cell_type": "code",
      "source": [],
      "metadata": {
        "id": "50Pz4sjANo2l"
      },
      "execution_count": null,
      "outputs": []
    }
  ]
}