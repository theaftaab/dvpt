{
 "nbformat": 4,
 "nbformat_minor": 0,
 "metadata": {
  "colab": {
   "provenance": []
  },
  "kernelspec": {
   "name": "python3",
   "display_name": "Python 3"
  },
  "language_info": {
   "name": "python"
  }
 },
 "cells": [
  {
   "cell_type": "code",
   "execution_count": 1,
   "metadata": {
    "colab": {
     "base_uri": "https://localhost:8080/"
    },
    "id": "9wDT-CfYIjF7",
    "outputId": "42b48ea3-1c04-4b8c-bbe7-b124b7006615"
   },
   "outputs": [
    {
     "output_type": "stream",
     "name": "stdout",
     "text": [
      "Collecting findspark\n",
      "  Downloading findspark-2.0.1-py2.py3-none-any.whl.metadata (352 bytes)\n",
      "Requirement already satisfied: pyspark in /usr/local/lib/python3.10/dist-packages (3.5.3)\n",
      "Requirement already satisfied: py4j==0.10.9.7 in /usr/local/lib/python3.10/dist-packages (from pyspark) (0.10.9.7)\n",
      "Downloading findspark-2.0.1-py2.py3-none-any.whl (4.4 kB)\n",
      "Installing collected packages: findspark\n",
      "Successfully installed findspark-2.0.1\n"
     ]
    }
   ],
   "source": [
    "!pip install findspark pyspark"
   ]
  },
  {
   "cell_type": "code",
   "source": [
    "import findspark\n",
    "findspark.init()"
   ],
   "metadata": {
    "id": "XWlyK3XrIlhY"
   },
   "execution_count": 2,
   "outputs": []
  },
  {
   "cell_type": "code",
   "source": [
    "from pyspark.sql import SparkSession"
   ],
   "metadata": {
    "id": "IZQDRWOaIpkH"
   },
   "execution_count": 3,
   "outputs": []
  },
  {
   "cell_type": "code",
   "source": [
    "\n",
    "spark = SparkSession.builder.appName(\"DataFrameOperations\").getOrCreate() ##"
   ],
   "metadata": {
    "id": "5M2_gPAvJjnW"
   },
   "execution_count": 5,
   "outputs": []
  },
  {
   "cell_type": "code",
   "source": [
    "data = [(\"Alice\", 25, \"New York\", \"Female\"),\n",
    "        (\"Bob\", 35, \"Los Angeles\", \"Male\"),\n",
    "        (\"Charlie\", 28, \"Chicago\", \"Male\"),\n",
    "        (\"David\", 42, \"Houston\", \"Male\"),\n",
    "        (\"Emily\", 30, \"Miami\", \"Female\"),\n",
    "        (\"Frank\", 22, \"Dallas\", \"Male\"),\n",
    "        (\"Grace\", 38, \"Philadelphia\", \"Female\"),\n",
    "        (\"Henry\", 29, \"San Antonio\", \"Male\"),\n",
    "        (\"Isabella\", 33, \"San Diego\", \"Female\"),\n",
    "        (\"Jack\", 45, \"San Jose\", \"Male\")]"
   ],
   "metadata": {
    "id": "gk3nyBs2Jmtm"
   },
   "execution_count": 6,
   "outputs": []
  },
  {
   "cell_type": "code",
   "source": [
    "df = spark.createDataFrame(data, [\"name\", \"age\", \"city\", \"gender\"])"
   ],
   "metadata": {
    "id": "KLZa2pMrJu12"
   },
   "execution_count": 7,
   "outputs": []
  },
  {
   "cell_type": "code",
   "source": [
    "# Filter rows with age greater than 30\n",
    "filtered_df = df.filter(df[\"age\"] > 30)"
   ],
   "metadata": {
    "id": "jDFFHymTJy4W"
   },
   "execution_count": 8,
   "outputs": []
  },
  {
   "cell_type": "code",
   "source": [
    "# Add a new column \"tax\" (you can define the logic for tax calculation)\n",
    "filtered_df = filtered_df.withColumn(\"tax\", filtered_df[\"age\"] * 0.1)\n"
   ],
   "metadata": {
    "id": "DwVKQeadJ1W3"
   },
   "execution_count": 9,
   "outputs": []
  },
  {
   "cell_type": "code",
   "source": [
    "# Rename the \"age\" column to \"years\"\n",
    "renamed_df = filtered_df.withColumnRenamed(\"age\", \"years\")"
   ],
   "metadata": {
    "id": "X3ZnVwnXJ31I"
   },
   "execution_count": 10,
   "outputs": []
  },
  {
   "cell_type": "code",
   "source": [
    "# Drop multiple columns\n",
    "final_df = renamed_df.drop(\"city\", \"gender\")"
   ],
   "metadata": {
    "id": "oIk-abB5J7QH"
   },
   "execution_count": 11,
   "outputs": []
  },
  {
   "cell_type": "code",
   "source": [
    "# Show the final DataFrame\n",
    "final_df.show()"
   ],
   "metadata": {
    "colab": {
     "base_uri": "https://localhost:8080/"
    },
    "id": "-FjEN9G2J-QX",
    "outputId": "3cf760ef-8914-416a-b7bd-2fde4c38b309"
   },
   "execution_count": 12,
   "outputs": [
    {
     "output_type": "stream",
     "name": "stdout",
     "text": [
      "+--------+-----+------------------+\n",
      "|    name|years|               tax|\n",
      "+--------+-----+------------------+\n",
      "|     Bob|   35|               3.5|\n",
      "|   David|   42|               4.2|\n",
      "|   Grace|   38|3.8000000000000003|\n",
      "|Isabella|   33|3.3000000000000003|\n",
      "|    Jack|   45|               4.5|\n",
      "+--------+-----+------------------+\n"
     ]
    }
   ]
  },
  {
   "cell_type": "code",
   "source": [],
   "metadata": {
    "id": "tX4juEDSKAs3"
   },
   "execution_count": null,
   "outputs": []
  }
 ]
}
