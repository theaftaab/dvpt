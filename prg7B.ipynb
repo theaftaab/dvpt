{
  "nbformat": 4,
  "nbformat_minor": 0,
  "metadata": {
    "colab": {
      "provenance": []
    },
    "kernelspec": {
      "name": "python3",
      "display_name": "Python 3"
    },
    "language_info": {
      "name": "python"
    }
  },
  "cells": [
    {
      "cell_type": "code",
      "execution_count": null,
      "metadata": {
        "colab": {
          "base_uri": "https://localhost:8080/"
        },
        "id": "cTLl8Fp958EH",
        "outputId": "395ab860-d838-4898-d6f2-b0beec29b30b"
      },
      "outputs": [
        {
          "output_type": "stream",
          "name": "stdout",
          "text": [
            "Root Mean Squared Error (RMSE): 249317.63342609617\n",
            "Feature Importances: [289917.4291328532,-54591.96302872276,5945.607792112988,-660.2856508329069]\n",
            "+----------+-------+------------------+\n",
            "|   HouseID|  Price|        prediction|\n",
            "+----------+-------+------------------+\n",
            "|6762810022|6890000|2850964.3185962955|\n",
            "|6762810029|4490000|1856618.2841596478|\n",
            "|6762810032|3850000| 1661203.889377561|\n",
            "|6762810039|3640000|1527957.4665190573|\n",
            "|6762810049|3300000| 2029342.009997621|\n",
            "|6762810053|3200000|2036083.6249403325|\n",
            "|6762810060|3100000| 1399223.338565682|\n",
            "|6762810071|2980000| 2120058.739834927|\n",
            "|6762810084|2890000| 1662242.645532521|\n",
            "|6762810085|2880000|1644105.2987203095|\n",
            "|6762810088|2750000|1235466.7669070074|\n",
            "|6762810091|2730000|1860287.6385462338|\n",
            "|6762810093|2700000|1462804.7843901494|\n",
            "|6762810101|2630000|1476045.1189318115|\n",
            "|6762810110|2540000| 961052.8129391986|\n",
            "|6762810126|2470000|1799432.7916333545|\n",
            "|6762810137|2400000| 860586.4412854215|\n",
            "|6762810170|2250000|1242138.3515590618|\n",
            "|6762810193|2190000|   954711.11739839|\n",
            "|6762810197|2150000|1450033.8429577316|\n",
            "+----------+-------+------------------+\n",
            "only showing top 20 rows\n",
            "\n"
          ]
        }
      ],
      "source": [
        "from pyspark.sql import SparkSession\n",
        "from pyspark.ml.feature import VectorAssembler, StandardScaler, StringIndexer\n",
        "from pyspark.ml.regression import LinearRegression\n",
        "from pyspark.ml import Pipeline\n",
        "from pyspark.ml.evaluation import RegressionEvaluator\n",
        "\n",
        "\n",
        "# Initialize SparkSession\n",
        "spark = SparkSession.builder.appName(\"House Price Prediction\").getOrCreate()\n",
        "\n",
        "# Load the dataset\n",
        "data_path = \"/content/HousePriceIndia.csv\"  # Replace with the actual path to your dataset\n",
        "data = spark.read.csv(data_path, header=True, inferSchema=True)\n",
        "\n",
        "# Rename columns for consistency\n",
        "data = data.withColumnRenamed(\"id\", \"HouseID\") \\\n",
        "           .withColumnRenamed(\"Postal Code\", \"Location\") \\\n",
        "           .withColumnRenamed(\"living area\", \"Size\") \\\n",
        "           .withColumnRenamed(\"number of bedrooms\", \"Bedrooms\") \\\n",
        "           .withColumnRenamed(\"number of bathrooms\", \"Bathrooms\") \\\n",
        "           .withColumnRenamed(\"Price\", \"Price\")\n",
        "\n",
        "# Handle missing values\n",
        "data = data.dropna()\n",
        "\n",
        "# Encode categorical variables\n",
        "indexer = StringIndexer(inputCol=\"Location\", outputCol=\"LocationIndex\")\n",
        "\n",
        "# Assemble features\n",
        "feature_cols = [\"Size\", \"Bedrooms\", \"Bathrooms\", \"LocationIndex\"]\n",
        "assembler = VectorAssembler(inputCols=feature_cols, outputCol=\"features\")\n",
        "\n",
        "# Normalize features\n",
        "scaler = StandardScaler(inputCol=\"features\", outputCol=\"scaledFeatures\")\n",
        "\n",
        "# Define the linear regression model\n",
        "lr = LinearRegression(featuresCol=\"scaledFeatures\", labelCol=\"Price\")\n",
        "\n",
        "# Create a pipeline\n",
        "pipeline = Pipeline(stages=[indexer, assembler, scaler, lr])\n",
        "\n",
        "# Split the data into training and testing sets\n",
        "train_data, test_data = data.randomSplit([0.8, 0.2], seed=42)\n",
        "\n",
        "# Train the model\n",
        "model = pipeline.fit(train_data)\n",
        "\n",
        "# Make predictions\n",
        "predictions = model.transform(test_data)\n",
        "\n",
        "# Evaluate the model\n",
        "evaluator = RegressionEvaluator(labelCol=\"Price\", predictionCol=\"prediction\", metricName=\"rmse\")\n",
        "rmse = evaluator.evaluate(predictions)\n",
        "print(f\"Root Mean Squared Error (RMSE): {rmse}\")\n",
        "\n",
        "# Display feature importances\n",
        "lr_model = model.stages[-1]\n",
        "print(\"Feature Importances:\", lr_model.coefficients)\n",
        "\n",
        "# Show sample predictions\n",
        "predictions.select(\"HouseID\", \"Price\", \"prediction\").show()\n"
      ]
    },
    {
      "cell_type": "code",
      "source": [],
      "metadata": {
        "id": "B74jGZWY58wv"
      },
      "execution_count": null,
      "outputs": []
    }
  ]
}