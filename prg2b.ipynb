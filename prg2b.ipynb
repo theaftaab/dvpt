{
  "nbformat": 4,
  "nbformat_minor": 0,
  "metadata": {
    "colab": {
      "provenance": []
    },
    "kernelspec": {
      "name": "python3",
      "display_name": "Python 3"
    },
    "language_info": {
      "name": "python"
    }
  },
  "cells": [
    {
      "cell_type": "code",
      "execution_count": null,
      "metadata": {
        "colab": {
          "base_uri": "https://localhost:8080/",
          "height": 211
        },
        "id": "n6vd8fays8om",
        "outputId": "9e563773-8031-4e8a-fc32-780084bd12ee"
      },
      "outputs": [
        {
          "output_type": "error",
          "ename": "NameError",
          "evalue": "name 'SparkSession' is not defined",
          "traceback": [
            "\u001b[0;31m---------------------------------------------------------------------------\u001b[0m",
            "\u001b[0;31mNameError\u001b[0m                                 Traceback (most recent call last)",
            "\u001b[0;32m<ipython-input-1-ae783029e467>\u001b[0m in \u001b[0;36m<cell line: 2>\u001b[0;34m()\u001b[0m\n\u001b[1;32m      1\u001b[0m \u001b[0;31m# Step 1: Initialize Spark Session\u001b[0m\u001b[0;34m\u001b[0m\u001b[0;34m\u001b[0m\u001b[0m\n\u001b[0;32m----> 2\u001b[0;31m \u001b[0mspark\u001b[0m \u001b[0;34m=\u001b[0m \u001b[0mSparkSession\u001b[0m\u001b[0;34m.\u001b[0m\u001b[0mbuilder\u001b[0m\u001b[0;31m \u001b[0m\u001b[0;31m\\\u001b[0m\u001b[0;34m\u001b[0m\u001b[0;34m\u001b[0m\u001b[0m\n\u001b[0m\u001b[1;32m      3\u001b[0m     \u001b[0;34m.\u001b[0m\u001b[0mappName\u001b[0m\u001b[0;34m(\u001b[0m\u001b[0;34m\"Product Data Analysis\"\u001b[0m\u001b[0;34m)\u001b[0m\u001b[0;31m \u001b[0m\u001b[0;31m\\\u001b[0m\u001b[0;34m\u001b[0m\u001b[0;34m\u001b[0m\u001b[0m\n\u001b[1;32m      4\u001b[0m     \u001b[0;34m.\u001b[0m\u001b[0mgetOrCreate\u001b[0m\u001b[0;34m(\u001b[0m\u001b[0;34m)\u001b[0m\u001b[0;34m\u001b[0m\u001b[0;34m\u001b[0m\u001b[0m\n\u001b[1;32m      5\u001b[0m \u001b[0;34m\u001b[0m\u001b[0m\n",
            "\u001b[0;31mNameError\u001b[0m: name 'SparkSession' is not defined"
          ]
        }
      ],
      "source": [
        "# Step 1: Initialize Spark Session\n",
        "spark = SparkSession.builder \\\n",
        "    .appName(\"Product Data Analysis\") \\\n",
        "    .getOrCreate()\n",
        "\n",
        "# Step 2: Create DataFrame with product data\n",
        "data = [\n",
        "    (1, \"Laptop\", \"Electronics\", 800, 10, 4.5),\n",
        "    (2, \"Smartphone\", \"Electronics\", 500, 20, 4.3),\n",
        "    (3, \"Desk Chair\", \"Furniture\", 150, 15, 4.2),\n",
        "    (4, \"Monitor\", \"Electronics\", 200, 12, 4.1),\n",
        "    (5, \"Table\", \"Furniture\", 300, 8, 4.0),\n",
        "    (6, \"Washing Machine\", \"Appliances\", 700, 5, 4.6),\n",
        "    (7, \"Refrigerator\", \"Appliances\", 1200, 3, 4.8),\n",
        "    (8, \"Headphones\", \"Electronics\", 100, 25, 4.4),\n",
        "    (9, \"Microwave\", \"Appliances\", 150, 7, 4.3),\n",
        "    (10, \"Sofa\", \"Furniture\", 600, 4, 4.7)\n",
        "]\n",
        "\n",
        "# Define column names\n",
        "columns = [\"ProductID\", \"ProductName\", \"Category\", \"Price\", \"StockQuantity\", \"Rating\"]\n",
        "\n",
        "# Create DataFrame\n",
        "df = spark.createDataFrame(data, columns)\n",
        "\n",
        "# Show the initial DataFrame\n",
        "print(\"Original DataFrame:\")\n",
        "df.show()\n",
        "\n",
        "# Step 3: Sort by Price in descending order and then by Category in ascending order\n",
        "sorted_df = df.orderBy(col(\"Price\").desc(), col(\"Category\").asc())\n",
        "print(\"\\nSorted DataFrame (by Price desc, Category asc):\")\n",
        "sorted_df.show()\n",
        "\n",
        "# Step 4: Find total sales amount for each product by Category\n",
        "sales_by_category = df.withColumn(\"TotalSales\", col(\"Price\") * col(\"StockQuantity\")) \\\n",
        "    .groupBy(\"Category\") \\\n",
        "    .agg(sum(\"TotalSales\").alias(\"TotalSalesAmount\"))\n",
        "\n",
        "print(\"\\nTotal Sales Amount by Category:\")\n",
        "sales_by_category.show()\n",
        "\n",
        "# Step 5: Find total sales amount and total quantity sold for each product\n",
        "sales_by_product = df.withColumn(\"TotalSales\", col(\"Price\") * col(\"StockQuantity\")) \\\n",
        "    .groupBy(\"ProductName\") \\\n",
        "    .agg(\n",
        "        sum(\"TotalSales\").alias(\"TotalSalesAmount\"),\n",
        "        sum(\"StockQuantity\").alias(\"TotalQuantitySold\")\n",
        "    )\n",
        "\n",
        "print(\"\\nTotal Sales Amount and Total Quantity Sold for Each Product:\")\n",
        "sales_by_product.show()\n",
        "\n",
        "# Stop Spark Session\n",
        "spark.stop()"
      ]
    },
    {
      "cell_type": "code",
      "source": [],
      "metadata": {
        "colab": {
          "base_uri": "https://localhost:8080/",
          "height": 211
        },
        "id": "eGLSQ1zgtANw",
        "outputId": "4a036895-6321-4170-b675-407fb7062678"
      },
      "execution_count": null,
      "outputs": [
        {
          "output_type": "error",
          "ename": "NameError",
          "evalue": "name 'SparkSession' is not defined",
          "traceback": [
            "\u001b[0;31m---------------------------------------------------------------------------\u001b[0m",
            "\u001b[0;31mNameError\u001b[0m                                 Traceback (most recent call last)",
            "\u001b[0;32m<ipython-input-4-ae783029e467>\u001b[0m in \u001b[0;36m<cell line: 2>\u001b[0;34m()\u001b[0m\n\u001b[1;32m      1\u001b[0m \u001b[0;31m# Step 1: Initialize Spark Session\u001b[0m\u001b[0;34m\u001b[0m\u001b[0;34m\u001b[0m\u001b[0m\n\u001b[0;32m----> 2\u001b[0;31m \u001b[0mspark\u001b[0m \u001b[0;34m=\u001b[0m \u001b[0mSparkSession\u001b[0m\u001b[0;34m.\u001b[0m\u001b[0mbuilder\u001b[0m\u001b[0;31m \u001b[0m\u001b[0;31m\\\u001b[0m\u001b[0;34m\u001b[0m\u001b[0;34m\u001b[0m\u001b[0m\n\u001b[0m\u001b[1;32m      3\u001b[0m     \u001b[0;34m.\u001b[0m\u001b[0mappName\u001b[0m\u001b[0;34m(\u001b[0m\u001b[0;34m\"Product Data Analysis\"\u001b[0m\u001b[0;34m)\u001b[0m\u001b[0;31m \u001b[0m\u001b[0;31m\\\u001b[0m\u001b[0;34m\u001b[0m\u001b[0;34m\u001b[0m\u001b[0m\n\u001b[1;32m      4\u001b[0m     \u001b[0;34m.\u001b[0m\u001b[0mgetOrCreate\u001b[0m\u001b[0;34m(\u001b[0m\u001b[0;34m)\u001b[0m\u001b[0;34m\u001b[0m\u001b[0;34m\u001b[0m\u001b[0m\n\u001b[1;32m      5\u001b[0m \u001b[0;34m\u001b[0m\u001b[0m\n",
            "\u001b[0;31mNameError\u001b[0m: name 'SparkSession' is not defined"
          ]
        }
      ]
    },
    {
      "cell_type": "code",
      "source": [
        "!pip install pyspark"
      ],
      "metadata": {
        "colab": {
          "base_uri": "https://localhost:8080/"
        },
        "id": "YNTvdYv_tLPF",
        "outputId": "f67f6185-ca73-4850-dc80-b51d066412d6"
      },
      "execution_count": null,
      "outputs": [
        {
          "output_type": "stream",
          "name": "stdout",
          "text": [
            "Requirement already satisfied: pyspark in /usr/local/lib/python3.10/dist-packages (3.5.3)\n",
            "Requirement already satisfied: py4j==0.10.9.7 in /usr/local/lib/python3.10/dist-packages (from pyspark) (0.10.9.7)\n"
          ]
        }
      ]
    },
    {
      "cell_type": "code",
      "source": [],
      "metadata": {
        "colab": {
          "base_uri": "https://localhost:8080/",
          "height": 211
        },
        "id": "faRSdSu4tNnw",
        "outputId": "48fb033f-d09a-46d3-e8af-5a0250e95de5"
      },
      "execution_count": null,
      "outputs": [
        {
          "output_type": "error",
          "ename": "NameError",
          "evalue": "name 'SparkSession' is not defined",
          "traceback": [
            "\u001b[0;31m---------------------------------------------------------------------------\u001b[0m",
            "\u001b[0;31mNameError\u001b[0m                                 Traceback (most recent call last)",
            "\u001b[0;32m<ipython-input-5-ae783029e467>\u001b[0m in \u001b[0;36m<cell line: 2>\u001b[0;34m()\u001b[0m\n\u001b[1;32m      1\u001b[0m \u001b[0;31m# Step 1: Initialize Spark Session\u001b[0m\u001b[0;34m\u001b[0m\u001b[0;34m\u001b[0m\u001b[0m\n\u001b[0;32m----> 2\u001b[0;31m \u001b[0mspark\u001b[0m \u001b[0;34m=\u001b[0m \u001b[0mSparkSession\u001b[0m\u001b[0;34m.\u001b[0m\u001b[0mbuilder\u001b[0m\u001b[0;31m \u001b[0m\u001b[0;31m\\\u001b[0m\u001b[0;34m\u001b[0m\u001b[0;34m\u001b[0m\u001b[0m\n\u001b[0m\u001b[1;32m      3\u001b[0m     \u001b[0;34m.\u001b[0m\u001b[0mappName\u001b[0m\u001b[0;34m(\u001b[0m\u001b[0;34m\"Product Data Analysis\"\u001b[0m\u001b[0;34m)\u001b[0m\u001b[0;31m \u001b[0m\u001b[0;31m\\\u001b[0m\u001b[0;34m\u001b[0m\u001b[0;34m\u001b[0m\u001b[0m\n\u001b[1;32m      4\u001b[0m     \u001b[0;34m.\u001b[0m\u001b[0mgetOrCreate\u001b[0m\u001b[0;34m(\u001b[0m\u001b[0;34m)\u001b[0m\u001b[0;34m\u001b[0m\u001b[0;34m\u001b[0m\u001b[0m\n\u001b[1;32m      5\u001b[0m \u001b[0;34m\u001b[0m\u001b[0m\n",
            "\u001b[0;31mNameError\u001b[0m: name 'SparkSession' is not defined"
          ]
        }
      ]
    },
    {
      "cell_type": "code",
      "source": [
        "from pyspark.sql import SparkSession\n",
        "from pyspark.sql.functions import col, sum"
      ],
      "metadata": {
        "id": "lRBUmSvZtSYt"
      },
      "execution_count": null,
      "outputs": []
    },
    {
      "cell_type": "code",
      "source": [
        "# Step 1: Initialize Spark Session\n",
        "spark = SparkSession.builder \\\n",
        "    .appName(\"Product Data Analysis\") \\\n",
        "    .getOrCreate()\n",
        "\n",
        "# Step 2: Create DataFrame with product data\n",
        "data = [\n",
        "    (1, \"Laptop\", \"Electronics\", 800, 10, 4.5),\n",
        "    (2, \"Smartphone\", \"Electronics\", 500, 20, 4.3),\n",
        "    (3, \"Desk Chair\", \"Furniture\", 150, 15, 4.2),\n",
        "    (4, \"Monitor\", \"Electronics\", 200, 12, 4.1),\n",
        "    (5, \"Table\", \"Furniture\", 300, 8, 4.0),\n",
        "    (6, \"Washing Machine\", \"Appliances\", 700, 5, 4.6),\n",
        "    (7, \"Refrigerator\", \"Appliances\", 1200, 3, 4.8),\n",
        "    (8, \"Headphones\", \"Electronics\", 100, 25, 4.4),\n",
        "    (9, \"Microwave\", \"Appliances\", 150, 7, 4.3),\n",
        "    (10, \"Sofa\", \"Furniture\", 600, 4, 4.7)\n",
        "]\n",
        "\n",
        "# Define column names\n",
        "columns = [\"ProductID\", \"ProductName\", \"Category\", \"Price\", \"StockQuantity\", \"Rating\"]\n",
        "\n",
        "# Create DataFrame\n",
        "df = spark.createDataFrame(data, columns)\n",
        "\n",
        "# Show the initial DataFrame\n",
        "print(\"Original DataFrame:\")\n",
        "df.show()\n",
        "\n",
        "# Step 3: Sort by Price in descending order and then by Category in ascending order\n",
        "sorted_df = df.orderBy(col(\"Price\").desc(), col(\"Category\").asc())\n",
        "print(\"\\nSorted DataFrame (by Price desc, Category asc):\")\n",
        "sorted_df.show()\n",
        "\n",
        "# Step 4: Find total sales amount for each product by Category\n",
        "sales_by_category = df.withColumn(\"TotalSales\", col(\"Price\") * col(\"StockQuantity\")) \\\n",
        "    .groupBy(\"Category\") \\\n",
        "    .agg(sum(\"TotalSales\").alias(\"TotalSalesAmount\"))\n",
        "\n",
        "print(\"\\nTotal Sales Amount by Category:\")\n",
        "sales_by_category.show()\n",
        "\n",
        "# Step 5: Find total sales amount and total quantity sold for each product\n",
        "sales_by_product = df.withColumn(\"TotalSales\", col(\"Price\") * col(\"StockQuantity\")) \\\n",
        "    .groupBy(\"ProductName\") \\\n",
        "    .agg(\n",
        "        sum(\"TotalSales\").alias(\"TotalSalesAmount\"),\n",
        "        sum(\"StockQuantity\").alias(\"TotalQuantitySold\")\n",
        "    )\n",
        "\n",
        "print(\"\\nTotal Sales Amount and Total Quantity Sold for Each Product:\")\n",
        "sales_by_product.show()\n",
        "\n",
        "# Stop Spark Session\n",
        "spark.stop()"
      ],
      "metadata": {
        "colab": {
          "base_uri": "https://localhost:8080/"
        },
        "id": "aQ1kehfxtVIT",
        "outputId": "746c078d-d861-4b31-ab35-68c0aae8e537"
      },
      "execution_count": null,
      "outputs": [
        {
          "output_type": "stream",
          "name": "stdout",
          "text": [
            "Original DataFrame:\n",
            "+---------+---------------+-----------+-----+-------------+------+\n",
            "|ProductID|    ProductName|   Category|Price|StockQuantity|Rating|\n",
            "+---------+---------------+-----------+-----+-------------+------+\n",
            "|        1|         Laptop|Electronics|  800|           10|   4.5|\n",
            "|        2|     Smartphone|Electronics|  500|           20|   4.3|\n",
            "|        3|     Desk Chair|  Furniture|  150|           15|   4.2|\n",
            "|        4|        Monitor|Electronics|  200|           12|   4.1|\n",
            "|        5|          Table|  Furniture|  300|            8|   4.0|\n",
            "|        6|Washing Machine| Appliances|  700|            5|   4.6|\n",
            "|        7|   Refrigerator| Appliances| 1200|            3|   4.8|\n",
            "|        8|     Headphones|Electronics|  100|           25|   4.4|\n",
            "|        9|      Microwave| Appliances|  150|            7|   4.3|\n",
            "|       10|           Sofa|  Furniture|  600|            4|   4.7|\n",
            "+---------+---------------+-----------+-----+-------------+------+\n",
            "\n",
            "\n",
            "Sorted DataFrame (by Price desc, Category asc):\n",
            "+---------+---------------+-----------+-----+-------------+------+\n",
            "|ProductID|    ProductName|   Category|Price|StockQuantity|Rating|\n",
            "+---------+---------------+-----------+-----+-------------+------+\n",
            "|        7|   Refrigerator| Appliances| 1200|            3|   4.8|\n",
            "|        1|         Laptop|Electronics|  800|           10|   4.5|\n",
            "|        6|Washing Machine| Appliances|  700|            5|   4.6|\n",
            "|       10|           Sofa|  Furniture|  600|            4|   4.7|\n",
            "|        2|     Smartphone|Electronics|  500|           20|   4.3|\n",
            "|        5|          Table|  Furniture|  300|            8|   4.0|\n",
            "|        4|        Monitor|Electronics|  200|           12|   4.1|\n",
            "|        9|      Microwave| Appliances|  150|            7|   4.3|\n",
            "|        3|     Desk Chair|  Furniture|  150|           15|   4.2|\n",
            "|        8|     Headphones|Electronics|  100|           25|   4.4|\n",
            "+---------+---------------+-----------+-----+-------------+------+\n",
            "\n",
            "\n",
            "Total Sales Amount by Category:\n",
            "+-----------+----------------+\n",
            "|   Category|TotalSalesAmount|\n",
            "+-----------+----------------+\n",
            "|Electronics|           22900|\n",
            "|  Furniture|            7050|\n",
            "| Appliances|            8150|\n",
            "+-----------+----------------+\n",
            "\n",
            "\n",
            "Total Sales Amount and Total Quantity Sold for Each Product:\n",
            "+---------------+----------------+-----------------+\n",
            "|    ProductName|TotalSalesAmount|TotalQuantitySold|\n",
            "+---------------+----------------+-----------------+\n",
            "|     Desk Chair|            2250|               15|\n",
            "|         Laptop|            8000|               10|\n",
            "|          Table|            2400|                8|\n",
            "|     Smartphone|           10000|               20|\n",
            "|        Monitor|            2400|               12|\n",
            "|   Refrigerator|            3600|                3|\n",
            "|      Microwave|            1050|                7|\n",
            "|           Sofa|            2400|                4|\n",
            "|Washing Machine|            3500|                5|\n",
            "|     Headphones|            2500|               25|\n",
            "+---------------+----------------+-----------------+\n",
            "\n"
          ]
        }
      ]
    },
    {
      "cell_type": "code",
      "source": [],
      "metadata": {
        "id": "c4tq9MD6tZ2v"
      },
      "execution_count": null,
      "outputs": []
    }
  ]
}